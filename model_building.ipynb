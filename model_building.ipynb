{
 "cells": [
  {
   "cell_type": "markdown",
   "metadata": {
    "colab_type": "text",
    "id": "view-in-github"
   },
   "source": [
    "<a href=\"https://colab.research.google.com/github/lognorman20/stockx_competiton/blob/master/notebooks/model_building.ipynb\" target=\"_parent\"><img src=\"https://colab.research.google.com/assets/colab-badge.svg\" alt=\"Open In Colab\"/></a>"
   ]
  },
  {
   "cell_type": "code",
   "execution_count": 17,
   "metadata": {
    "id": "9K8lPKQBRqgp",
    "scrolled": true
   },
   "outputs": [],
   "source": [
    "import pandas as pd\n",
    "import numpy as np"
   ]
  },
  {
   "cell_type": "code",
   "execution_count": 18,
   "metadata": {
    "id": "AAohw-WrRqgt"
   },
   "outputs": [],
   "source": [
    "shoe_data = pd.read_csv('Clean_Shoe_Data.csv', parse_dates = True)\n",
    "df = shoe_data.copy()"
   ]
  },
  {
   "cell_type": "code",
   "execution_count": 19,
   "metadata": {
    "id": "biVpGX_PRqgw"
   },
   "outputs": [],
   "source": [
    "df = df.rename(columns={\n",
    "    \"Order Date\": \"Order_date\",\n",
    "    \"Sneaker Name\": \"Sneaker_Name\",\n",
    "    \"Sale Price\": \"Sale_Price\",\n",
    "    \"Retail Price\": \"Retail_Price\",\n",
    "    \"Release Date\": \"Release_Date\",\n",
    "    \"Shoe Size\": \"Shoe_Size\",\n",
    "    \"Buyer Region\": \"Buyer_Region\"\n",
    "    })\n",
    "df = df.head(10000)"
   ]
  },
  {
   "cell_type": "code",
   "execution_count": 20,
   "metadata": {
    "id": "8o16VMq-Rqgy"
   },
   "outputs": [],
   "source": [
    "import datetime as dt\n",
    "\n",
    "df['Order_date'] = pd.to_datetime(df['Order_date'])\n",
    "df['Order_date']=df['Order_date'].map(dt.datetime.toordinal)\n",
    "\n",
    "df['Release_Date'] = pd.to_datetime(df['Release_Date'])\n",
    "df['Release_Date']=df['Release_Date'].map(dt.datetime.toordinal)"
   ]
  },
  {
   "cell_type": "code",
   "execution_count": 21,
   "metadata": {
    "id": "smnP8bk1Rqg0"
   },
   "outputs": [],
   "source": [
    "from sklearn.model_selection import train_test_split\n",
    "\n",
    "X = df.drop(['Sale_Price'], axis=1)\n",
    "y = df.Sale_Price\n",
    "X_train,X_valid,y_train,y_valid = train_test_split(X, y, test_size=0.2, random_state = 27)"
   ]
  },
  {
   "cell_type": "code",
   "execution_count": 22,
   "metadata": {
    "id": "yMD91-swRqg2"
   },
   "outputs": [
    {
     "name": "stderr",
     "output_type": "stream",
     "text": [
      "/Users/fbz/sneaker-api/Application/env/lib/python3.8/site-packages/sklearn/utils/deprecation.py:87: FutureWarning: Function get_feature_names is deprecated; get_feature_names is deprecated in 1.0 and will be removed in 1.2. Please use get_feature_names_out instead.\n",
      "  warnings.warn(msg, category=FutureWarning)\n"
     ]
    }
   ],
   "source": [
    "from sklearn.preprocessing import OneHotEncoder\n",
    "\n",
    "object_cols = ['Sneaker_Name', 'Buyer_Region', 'Brand']\n",
    "OH_encoder = OneHotEncoder(handle_unknown='ignore', sparse=False)\n",
    "OH_cols_train = pd.DataFrame(OH_encoder.fit_transform(X_train[object_cols]))\n",
    "OH_cols_valid = pd.DataFrame(OH_encoder.transform(X_valid[object_cols]))\n",
    "\n",
    "OH_cols_train.index = X_train.index\n",
    "OH_cols_valid.index = X_valid.index\n",
    "\n",
    "OH_cols_train.columns = OH_encoder.get_feature_names(object_cols)\n",
    "OH_cols_valid.columns = OH_encoder.get_feature_names(object_cols)\n",
    "\n",
    "num_X_train = X_train.drop(object_cols, axis=1)\n",
    "num_X_valid = X_valid.drop(object_cols, axis=1)\n",
    "\n",
    "X_train = pd.concat([num_X_train, OH_cols_train], axis=1)\n",
    "X_valid = pd.concat([num_X_valid, OH_cols_valid], axis=1)"
   ]
  },
  {
   "cell_type": "code",
   "execution_count": 23,
   "metadata": {
    "id": "Emx7RkFdRqg5",
    "outputId": "4b239ee7-a989-4821-d671-732c24e0249f"
   },
   "outputs": [
    {
     "data": {
      "text/html": [
       "<div>\n",
       "<style scoped>\n",
       "    .dataframe tbody tr th:only-of-type {\n",
       "        vertical-align: middle;\n",
       "    }\n",
       "\n",
       "    .dataframe tbody tr th {\n",
       "        vertical-align: top;\n",
       "    }\n",
       "\n",
       "    .dataframe thead th {\n",
       "        text-align: right;\n",
       "    }\n",
       "</style>\n",
       "<table border=\"1\" class=\"dataframe\">\n",
       "  <thead>\n",
       "    <tr style=\"text-align: right;\">\n",
       "      <th></th>\n",
       "      <th>Order_date</th>\n",
       "      <th>Retail_Price</th>\n",
       "      <th>Release_Date</th>\n",
       "      <th>Shoe_Size</th>\n",
       "      <th>Sneaker_Name_Adidas Yeezy Boost 350 Low Moonrock</th>\n",
       "      <th>Sneaker_Name_Adidas Yeezy Boost 350 Low Oxford Tan</th>\n",
       "      <th>Sneaker_Name_Adidas Yeezy Boost 350 Low Pirate Black 2015</th>\n",
       "      <th>Sneaker_Name_Adidas Yeezy Boost 350 Low Pirate Black 2016</th>\n",
       "      <th>Sneaker_Name_Adidas Yeezy Boost 350 Low Turtledove</th>\n",
       "      <th>Sneaker_Name_Adidas Yeezy Boost 350 Low V2 Beluga</th>\n",
       "      <th>...</th>\n",
       "      <th>Buyer_Region_Texas</th>\n",
       "      <th>Buyer_Region_Utah</th>\n",
       "      <th>Buyer_Region_Vermont</th>\n",
       "      <th>Buyer_Region_Virginia</th>\n",
       "      <th>Buyer_Region_Washington</th>\n",
       "      <th>Buyer_Region_West Virginia</th>\n",
       "      <th>Buyer_Region_Wisconsin</th>\n",
       "      <th>Buyer_Region_Wyoming</th>\n",
       "      <th>Brand_ Yeezy</th>\n",
       "      <th>Brand_Off-White</th>\n",
       "    </tr>\n",
       "  </thead>\n",
       "  <tbody>\n",
       "    <tr>\n",
       "      <th>5314</th>\n",
       "      <td>736662</td>\n",
       "      <td>220</td>\n",
       "      <td>736658</td>\n",
       "      <td>13.0</td>\n",
       "      <td>0.0</td>\n",
       "      <td>0.0</td>\n",
       "      <td>0.0</td>\n",
       "      <td>0.0</td>\n",
       "      <td>0.0</td>\n",
       "      <td>0.0</td>\n",
       "      <td>...</td>\n",
       "      <td>1.0</td>\n",
       "      <td>0.0</td>\n",
       "      <td>0.0</td>\n",
       "      <td>0.0</td>\n",
       "      <td>0.0</td>\n",
       "      <td>0.0</td>\n",
       "      <td>0.0</td>\n",
       "      <td>0.0</td>\n",
       "      <td>1.0</td>\n",
       "      <td>0.0</td>\n",
       "    </tr>\n",
       "    <tr>\n",
       "      <th>5315</th>\n",
       "      <td>736662</td>\n",
       "      <td>220</td>\n",
       "      <td>736658</td>\n",
       "      <td>6.0</td>\n",
       "      <td>0.0</td>\n",
       "      <td>0.0</td>\n",
       "      <td>0.0</td>\n",
       "      <td>0.0</td>\n",
       "      <td>0.0</td>\n",
       "      <td>0.0</td>\n",
       "      <td>...</td>\n",
       "      <td>0.0</td>\n",
       "      <td>0.0</td>\n",
       "      <td>0.0</td>\n",
       "      <td>0.0</td>\n",
       "      <td>0.0</td>\n",
       "      <td>0.0</td>\n",
       "      <td>0.0</td>\n",
       "      <td>0.0</td>\n",
       "      <td>1.0</td>\n",
       "      <td>0.0</td>\n",
       "    </tr>\n",
       "    <tr>\n",
       "      <th>3137</th>\n",
       "      <td>736657</td>\n",
       "      <td>220</td>\n",
       "      <td>736658</td>\n",
       "      <td>9.0</td>\n",
       "      <td>0.0</td>\n",
       "      <td>0.0</td>\n",
       "      <td>0.0</td>\n",
       "      <td>0.0</td>\n",
       "      <td>0.0</td>\n",
       "      <td>0.0</td>\n",
       "      <td>...</td>\n",
       "      <td>0.0</td>\n",
       "      <td>0.0</td>\n",
       "      <td>0.0</td>\n",
       "      <td>0.0</td>\n",
       "      <td>0.0</td>\n",
       "      <td>0.0</td>\n",
       "      <td>0.0</td>\n",
       "      <td>0.0</td>\n",
       "      <td>1.0</td>\n",
       "      <td>0.0</td>\n",
       "    </tr>\n",
       "    <tr>\n",
       "      <th>2614</th>\n",
       "      <td>736655</td>\n",
       "      <td>220</td>\n",
       "      <td>736658</td>\n",
       "      <td>10.0</td>\n",
       "      <td>0.0</td>\n",
       "      <td>0.0</td>\n",
       "      <td>0.0</td>\n",
       "      <td>0.0</td>\n",
       "      <td>0.0</td>\n",
       "      <td>0.0</td>\n",
       "      <td>...</td>\n",
       "      <td>1.0</td>\n",
       "      <td>0.0</td>\n",
       "      <td>0.0</td>\n",
       "      <td>0.0</td>\n",
       "      <td>0.0</td>\n",
       "      <td>0.0</td>\n",
       "      <td>0.0</td>\n",
       "      <td>0.0</td>\n",
       "      <td>1.0</td>\n",
       "      <td>0.0</td>\n",
       "    </tr>\n",
       "    <tr>\n",
       "      <th>1605</th>\n",
       "      <td>736644</td>\n",
       "      <td>160</td>\n",
       "      <td>736581</td>\n",
       "      <td>11.0</td>\n",
       "      <td>0.0</td>\n",
       "      <td>0.0</td>\n",
       "      <td>0.0</td>\n",
       "      <td>0.0</td>\n",
       "      <td>0.0</td>\n",
       "      <td>0.0</td>\n",
       "      <td>...</td>\n",
       "      <td>0.0</td>\n",
       "      <td>0.0</td>\n",
       "      <td>0.0</td>\n",
       "      <td>0.0</td>\n",
       "      <td>0.0</td>\n",
       "      <td>0.0</td>\n",
       "      <td>0.0</td>\n",
       "      <td>0.0</td>\n",
       "      <td>0.0</td>\n",
       "      <td>1.0</td>\n",
       "    </tr>\n",
       "  </tbody>\n",
       "</table>\n",
       "<p>5 rows × 83 columns</p>\n",
       "</div>"
      ],
      "text/plain": [
       "      Order_date  Retail_Price  Release_Date  Shoe_Size  \\\n",
       "5314      736662           220        736658       13.0   \n",
       "5315      736662           220        736658        6.0   \n",
       "3137      736657           220        736658        9.0   \n",
       "2614      736655           220        736658       10.0   \n",
       "1605      736644           160        736581       11.0   \n",
       "\n",
       "      Sneaker_Name_Adidas Yeezy Boost 350 Low Moonrock  \\\n",
       "5314                                               0.0   \n",
       "5315                                               0.0   \n",
       "3137                                               0.0   \n",
       "2614                                               0.0   \n",
       "1605                                               0.0   \n",
       "\n",
       "      Sneaker_Name_Adidas Yeezy Boost 350 Low Oxford Tan  \\\n",
       "5314                                                0.0    \n",
       "5315                                                0.0    \n",
       "3137                                                0.0    \n",
       "2614                                                0.0    \n",
       "1605                                                0.0    \n",
       "\n",
       "      Sneaker_Name_Adidas Yeezy Boost 350 Low Pirate Black 2015  \\\n",
       "5314                                                0.0           \n",
       "5315                                                0.0           \n",
       "3137                                                0.0           \n",
       "2614                                                0.0           \n",
       "1605                                                0.0           \n",
       "\n",
       "      Sneaker_Name_Adidas Yeezy Boost 350 Low Pirate Black 2016  \\\n",
       "5314                                                0.0           \n",
       "5315                                                0.0           \n",
       "3137                                                0.0           \n",
       "2614                                                0.0           \n",
       "1605                                                0.0           \n",
       "\n",
       "      Sneaker_Name_Adidas Yeezy Boost 350 Low Turtledove  \\\n",
       "5314                                                0.0    \n",
       "5315                                                0.0    \n",
       "3137                                                0.0    \n",
       "2614                                                0.0    \n",
       "1605                                                0.0    \n",
       "\n",
       "      Sneaker_Name_Adidas Yeezy Boost 350 Low V2 Beluga  ...  \\\n",
       "5314                                                0.0  ...   \n",
       "5315                                                0.0  ...   \n",
       "3137                                                0.0  ...   \n",
       "2614                                                0.0  ...   \n",
       "1605                                                0.0  ...   \n",
       "\n",
       "      Buyer_Region_Texas  Buyer_Region_Utah  Buyer_Region_Vermont  \\\n",
       "5314                 1.0                0.0                   0.0   \n",
       "5315                 0.0                0.0                   0.0   \n",
       "3137                 0.0                0.0                   0.0   \n",
       "2614                 1.0                0.0                   0.0   \n",
       "1605                 0.0                0.0                   0.0   \n",
       "\n",
       "      Buyer_Region_Virginia  Buyer_Region_Washington  \\\n",
       "5314                    0.0                      0.0   \n",
       "5315                    0.0                      0.0   \n",
       "3137                    0.0                      0.0   \n",
       "2614                    0.0                      0.0   \n",
       "1605                    0.0                      0.0   \n",
       "\n",
       "      Buyer_Region_West Virginia  Buyer_Region_Wisconsin  \\\n",
       "5314                         0.0                     0.0   \n",
       "5315                         0.0                     0.0   \n",
       "3137                         0.0                     0.0   \n",
       "2614                         0.0                     0.0   \n",
       "1605                         0.0                     0.0   \n",
       "\n",
       "      Buyer_Region_Wyoming  Brand_ Yeezy  Brand_Off-White  \n",
       "5314                   0.0           1.0              0.0  \n",
       "5315                   0.0           1.0              0.0  \n",
       "3137                   0.0           1.0              0.0  \n",
       "2614                   0.0           1.0              0.0  \n",
       "1605                   0.0           0.0              1.0  \n",
       "\n",
       "[5 rows x 83 columns]"
      ]
     },
     "execution_count": 23,
     "metadata": {},
     "output_type": "execute_result"
    }
   ],
   "source": [
    "X_train.head()"
   ]
  },
  {
   "cell_type": "code",
   "execution_count": 24,
   "metadata": {
    "id": "HR3dO_XBRqg9",
    "outputId": "124a1139-4318-4cf1-b04b-77ca6526a39d"
   },
   "outputs": [
    {
     "data": {
      "text/plain": [
       "(8000, 83)"
      ]
     },
     "execution_count": 24,
     "metadata": {},
     "output_type": "execute_result"
    }
   ],
   "source": [
    "X_train.shape"
   ]
  },
  {
   "cell_type": "code",
   "execution_count": 25,
   "metadata": {
    "id": "YNGVbWxvRqhA",
    "outputId": "5b0373d8-f055-4e94-f87c-5b4f74f06ba6"
   },
   "outputs": [
    {
     "data": {
      "text/html": [
       "<div>\n",
       "<style scoped>\n",
       "    .dataframe tbody tr th:only-of-type {\n",
       "        vertical-align: middle;\n",
       "    }\n",
       "\n",
       "    .dataframe tbody tr th {\n",
       "        vertical-align: top;\n",
       "    }\n",
       "\n",
       "    .dataframe thead th {\n",
       "        text-align: right;\n",
       "    }\n",
       "</style>\n",
       "<table border=\"1\" class=\"dataframe\">\n",
       "  <thead>\n",
       "    <tr style=\"text-align: right;\">\n",
       "      <th></th>\n",
       "      <th>Order_date</th>\n",
       "      <th>Retail_Price</th>\n",
       "      <th>Release_Date</th>\n",
       "      <th>Shoe_Size</th>\n",
       "      <th>Sneaker_Name_Adidas Yeezy Boost 350 Low Moonrock</th>\n",
       "      <th>Sneaker_Name_Adidas Yeezy Boost 350 Low Oxford Tan</th>\n",
       "      <th>Sneaker_Name_Adidas Yeezy Boost 350 Low Pirate Black 2015</th>\n",
       "      <th>Sneaker_Name_Adidas Yeezy Boost 350 Low Pirate Black 2016</th>\n",
       "      <th>Sneaker_Name_Adidas Yeezy Boost 350 Low Turtledove</th>\n",
       "      <th>Sneaker_Name_Adidas Yeezy Boost 350 Low V2 Beluga</th>\n",
       "      <th>...</th>\n",
       "      <th>Buyer_Region_Texas</th>\n",
       "      <th>Buyer_Region_Utah</th>\n",
       "      <th>Buyer_Region_Vermont</th>\n",
       "      <th>Buyer_Region_Virginia</th>\n",
       "      <th>Buyer_Region_Washington</th>\n",
       "      <th>Buyer_Region_West Virginia</th>\n",
       "      <th>Buyer_Region_Wisconsin</th>\n",
       "      <th>Buyer_Region_Wyoming</th>\n",
       "      <th>Brand_ Yeezy</th>\n",
       "      <th>Brand_Off-White</th>\n",
       "    </tr>\n",
       "  </thead>\n",
       "  <tbody>\n",
       "    <tr>\n",
       "      <th>1208</th>\n",
       "      <td>736627</td>\n",
       "      <td>220</td>\n",
       "      <td>736448</td>\n",
       "      <td>10.0</td>\n",
       "      <td>0.0</td>\n",
       "      <td>0.0</td>\n",
       "      <td>0.0</td>\n",
       "      <td>0.0</td>\n",
       "      <td>0.0</td>\n",
       "      <td>0.0</td>\n",
       "      <td>...</td>\n",
       "      <td>0.0</td>\n",
       "      <td>0.0</td>\n",
       "      <td>0.0</td>\n",
       "      <td>0.0</td>\n",
       "      <td>0.0</td>\n",
       "      <td>0.0</td>\n",
       "      <td>0.0</td>\n",
       "      <td>0.0</td>\n",
       "      <td>1.0</td>\n",
       "      <td>0.0</td>\n",
       "    </tr>\n",
       "    <tr>\n",
       "      <th>4426</th>\n",
       "      <td>736660</td>\n",
       "      <td>220</td>\n",
       "      <td>736658</td>\n",
       "      <td>11.0</td>\n",
       "      <td>0.0</td>\n",
       "      <td>0.0</td>\n",
       "      <td>0.0</td>\n",
       "      <td>0.0</td>\n",
       "      <td>0.0</td>\n",
       "      <td>0.0</td>\n",
       "      <td>...</td>\n",
       "      <td>1.0</td>\n",
       "      <td>0.0</td>\n",
       "      <td>0.0</td>\n",
       "      <td>0.0</td>\n",
       "      <td>0.0</td>\n",
       "      <td>0.0</td>\n",
       "      <td>0.0</td>\n",
       "      <td>0.0</td>\n",
       "      <td>1.0</td>\n",
       "      <td>0.0</td>\n",
       "    </tr>\n",
       "    <tr>\n",
       "      <th>4730</th>\n",
       "      <td>736660</td>\n",
       "      <td>170</td>\n",
       "      <td>736634</td>\n",
       "      <td>6.0</td>\n",
       "      <td>0.0</td>\n",
       "      <td>0.0</td>\n",
       "      <td>0.0</td>\n",
       "      <td>0.0</td>\n",
       "      <td>0.0</td>\n",
       "      <td>0.0</td>\n",
       "      <td>...</td>\n",
       "      <td>0.0</td>\n",
       "      <td>0.0</td>\n",
       "      <td>0.0</td>\n",
       "      <td>0.0</td>\n",
       "      <td>0.0</td>\n",
       "      <td>0.0</td>\n",
       "      <td>0.0</td>\n",
       "      <td>0.0</td>\n",
       "      <td>0.0</td>\n",
       "      <td>1.0</td>\n",
       "    </tr>\n",
       "    <tr>\n",
       "      <th>2912</th>\n",
       "      <td>736656</td>\n",
       "      <td>160</td>\n",
       "      <td>736581</td>\n",
       "      <td>13.0</td>\n",
       "      <td>0.0</td>\n",
       "      <td>0.0</td>\n",
       "      <td>0.0</td>\n",
       "      <td>0.0</td>\n",
       "      <td>0.0</td>\n",
       "      <td>0.0</td>\n",
       "      <td>...</td>\n",
       "      <td>0.0</td>\n",
       "      <td>0.0</td>\n",
       "      <td>0.0</td>\n",
       "      <td>0.0</td>\n",
       "      <td>0.0</td>\n",
       "      <td>0.0</td>\n",
       "      <td>0.0</td>\n",
       "      <td>0.0</td>\n",
       "      <td>0.0</td>\n",
       "      <td>1.0</td>\n",
       "    </tr>\n",
       "    <tr>\n",
       "      <th>2618</th>\n",
       "      <td>736655</td>\n",
       "      <td>220</td>\n",
       "      <td>736658</td>\n",
       "      <td>5.0</td>\n",
       "      <td>0.0</td>\n",
       "      <td>0.0</td>\n",
       "      <td>0.0</td>\n",
       "      <td>0.0</td>\n",
       "      <td>0.0</td>\n",
       "      <td>0.0</td>\n",
       "      <td>...</td>\n",
       "      <td>0.0</td>\n",
       "      <td>0.0</td>\n",
       "      <td>0.0</td>\n",
       "      <td>0.0</td>\n",
       "      <td>0.0</td>\n",
       "      <td>0.0</td>\n",
       "      <td>0.0</td>\n",
       "      <td>0.0</td>\n",
       "      <td>1.0</td>\n",
       "      <td>0.0</td>\n",
       "    </tr>\n",
       "  </tbody>\n",
       "</table>\n",
       "<p>5 rows × 83 columns</p>\n",
       "</div>"
      ],
      "text/plain": [
       "      Order_date  Retail_Price  Release_Date  Shoe_Size  \\\n",
       "1208      736627           220        736448       10.0   \n",
       "4426      736660           220        736658       11.0   \n",
       "4730      736660           170        736634        6.0   \n",
       "2912      736656           160        736581       13.0   \n",
       "2618      736655           220        736658        5.0   \n",
       "\n",
       "      Sneaker_Name_Adidas Yeezy Boost 350 Low Moonrock  \\\n",
       "1208                                               0.0   \n",
       "4426                                               0.0   \n",
       "4730                                               0.0   \n",
       "2912                                               0.0   \n",
       "2618                                               0.0   \n",
       "\n",
       "      Sneaker_Name_Adidas Yeezy Boost 350 Low Oxford Tan  \\\n",
       "1208                                                0.0    \n",
       "4426                                                0.0    \n",
       "4730                                                0.0    \n",
       "2912                                                0.0    \n",
       "2618                                                0.0    \n",
       "\n",
       "      Sneaker_Name_Adidas Yeezy Boost 350 Low Pirate Black 2015  \\\n",
       "1208                                                0.0           \n",
       "4426                                                0.0           \n",
       "4730                                                0.0           \n",
       "2912                                                0.0           \n",
       "2618                                                0.0           \n",
       "\n",
       "      Sneaker_Name_Adidas Yeezy Boost 350 Low Pirate Black 2016  \\\n",
       "1208                                                0.0           \n",
       "4426                                                0.0           \n",
       "4730                                                0.0           \n",
       "2912                                                0.0           \n",
       "2618                                                0.0           \n",
       "\n",
       "      Sneaker_Name_Adidas Yeezy Boost 350 Low Turtledove  \\\n",
       "1208                                                0.0    \n",
       "4426                                                0.0    \n",
       "4730                                                0.0    \n",
       "2912                                                0.0    \n",
       "2618                                                0.0    \n",
       "\n",
       "      Sneaker_Name_Adidas Yeezy Boost 350 Low V2 Beluga  ...  \\\n",
       "1208                                                0.0  ...   \n",
       "4426                                                0.0  ...   \n",
       "4730                                                0.0  ...   \n",
       "2912                                                0.0  ...   \n",
       "2618                                                0.0  ...   \n",
       "\n",
       "      Buyer_Region_Texas  Buyer_Region_Utah  Buyer_Region_Vermont  \\\n",
       "1208                 0.0                0.0                   0.0   \n",
       "4426                 1.0                0.0                   0.0   \n",
       "4730                 0.0                0.0                   0.0   \n",
       "2912                 0.0                0.0                   0.0   \n",
       "2618                 0.0                0.0                   0.0   \n",
       "\n",
       "      Buyer_Region_Virginia  Buyer_Region_Washington  \\\n",
       "1208                    0.0                      0.0   \n",
       "4426                    0.0                      0.0   \n",
       "4730                    0.0                      0.0   \n",
       "2912                    0.0                      0.0   \n",
       "2618                    0.0                      0.0   \n",
       "\n",
       "      Buyer_Region_West Virginia  Buyer_Region_Wisconsin  \\\n",
       "1208                         0.0                     0.0   \n",
       "4426                         0.0                     0.0   \n",
       "4730                         0.0                     0.0   \n",
       "2912                         0.0                     0.0   \n",
       "2618                         0.0                     0.0   \n",
       "\n",
       "      Buyer_Region_Wyoming  Brand_ Yeezy  Brand_Off-White  \n",
       "1208                   0.0           1.0              0.0  \n",
       "4426                   0.0           1.0              0.0  \n",
       "4730                   0.0           0.0              1.0  \n",
       "2912                   0.0           0.0              1.0  \n",
       "2618                   0.0           1.0              0.0  \n",
       "\n",
       "[5 rows x 83 columns]"
      ]
     },
     "execution_count": 25,
     "metadata": {},
     "output_type": "execute_result"
    }
   ],
   "source": [
    "X_valid.head()"
   ]
  },
  {
   "cell_type": "code",
   "execution_count": 26,
   "metadata": {
    "id": "eqZ6HEGYRqhD"
   },
   "outputs": [],
   "source": [
    "from sklearn.ensemble import RandomForestRegressor\n",
    "import xgboost as xgb\n",
    "from sklearn.tree import DecisionTreeRegressor"
   ]
  },
  {
   "cell_type": "code",
   "execution_count": 27,
   "metadata": {
    "id": "877MNCUERqhF"
   },
   "outputs": [],
   "source": [
    "from sklearn.pipeline import Pipeline\n",
    "\n",
    "pipeline_dtr=Pipeline([('dtr', DecisionTreeRegressor(random_state=27))])\n",
    "\n",
    "pipeline_randomforest=Pipeline([('rf_regressor',RandomForestRegressor(random_state=27))])\n",
    "\n",
    "pipeline_xgb=Pipeline([('xgb_regressor',xgb.XGBRegressor(objective=\"reg:linear\", verbosity = 0, random_state=27))])"
   ]
  },
  {
   "cell_type": "code",
   "execution_count": 28,
   "metadata": {
    "id": "ikP-UUJHRqhK"
   },
   "outputs": [],
   "source": [
    "from sklearn.model_selection import RandomizedSearchCV\n",
    "from pprint import pprint\n",
    "import random\n"
   ]
  },
  {
   "cell_type": "code",
   "execution_count": 29,
   "metadata": {
    "id": "X1h3DhnQRqhN",
    "outputId": "cf1c3cd5-67dd-44a6-f9ba-3d16ea378a71",
    "tags": []
   },
   "outputs": [
    {
     "data": {
      "text/plain": [
       "{'n_estimators': [200, 400, 600, 800, 1000, 1200, 1400, 1600, 1800, 2000],\n",
       " 'max_features': ['auto', 'sqrt'],\n",
       " 'max_depth': [10, 20, 30, 40, 50, 60, 70, 80, 90, 100, None],\n",
       " 'min_samples_split': [2, 5, 10, 15, 25, 50, 75, 100],\n",
       " 'min_samples_leaf': [1, 2, 5, 10]}"
      ]
     },
     "execution_count": 29,
     "metadata": {},
     "output_type": "execute_result"
    }
   ],
   "source": [
    "n_estimators = [200, 400, 600, 800, 1000, 1200, 1400, 1600, 1800, 2000]\n",
    "max_features = ['auto', 'sqrt']\n",
    "max_depth = [10, 20, 30, 40, 50, 60, 70, 80, 90, 100, None]\n",
    "min_samples_split = [2, 5, 10, 15, 25, 50, 75, 100]\n",
    "min_samples_leaf = [1, 2, 5, 10]\n",
    "\n",
    "random_grid = {'n_estimators': n_estimators,\n",
    "               'max_features': max_features,\n",
    "               'max_depth': max_depth,\n",
    "               'min_samples_split': min_samples_split,\n",
    "               'min_samples_leaf': min_samples_leaf}\n",
    "\n",
    "random_grid"
   ]
  },
  {
   "cell_type": "code",
   "execution_count": 30,
   "metadata": {
    "id": "iAcC3n1PRqhR",
    "outputId": "66fc7585-c5ad-47a2-9bb6-3eed5e8230df",
    "tags": []
   },
   "outputs": [
    {
     "name": "stdout",
     "output_type": "stream",
     "text": [
      "Fitting 3 folds for each of 10 candidates, totalling 30 fits\n"
     ]
    },
    {
     "data": {
      "text/plain": [
       "RandomizedSearchCV(cv=3, estimator=RandomForestRegressor(random_state=27),\n",
       "                   n_jobs=-1,\n",
       "                   param_distributions={'max_depth': [10, 20, 30, 40, 50, 60,\n",
       "                                                      70, 80, 90, 100, None],\n",
       "                                        'max_features': ['auto', 'sqrt'],\n",
       "                                        'min_samples_leaf': [1, 2, 5, 10],\n",
       "                                        'min_samples_split': [2, 5, 10, 15, 25,\n",
       "                                                              50, 75, 100],\n",
       "                                        'n_estimators': [200, 400, 600, 800,\n",
       "                                                         1000, 1200, 1400, 1600,\n",
       "                                                         1800, 2000]},\n",
       "                   random_state=27, verbose=2)"
      ]
     },
     "execution_count": 30,
     "metadata": {},
     "output_type": "execute_result"
    }
   ],
   "source": [
    "rf = RandomForestRegressor(random_state=27)\n",
    "rf_random = RandomizedSearchCV(estimator = rf, param_distributions = random_grid, n_iter = 10, cv = 3, verbose=2, random_state=27, n_jobs = -1)\n",
    "\n",
    "\n",
    "rf_random.fit(X_train, y_train)"
   ]
  },
  {
   "cell_type": "code",
   "execution_count": 31,
   "metadata": {
    "id": "tDxFO2WqRqhT"
   },
   "outputs": [],
   "source": [
    "def evaluate(model, X_valid, y_valid):\n",
    "    predictions = model.predict(X_valid)\n",
    "    errors = np.sqrt(mean_squared_error(y_valid, predictions))\n",
    "\n",
    "    \n",
    "    return errors"
   ]
  },
  {
   "cell_type": "code",
   "execution_count": 32,
   "metadata": {
    "id": "RsCcaa1oRqhV",
    "outputId": "f2288c3f-3292-4732-c442-28cdd39cba6a",
    "tags": []
   },
   "outputs": [],
   "source": [
    "from sklearn.metrics import mean_squared_error\n",
    "base_model = rf\n",
    "base_model.fit(X_train, y_train)\n",
    "base_accuracy = evaluate(base_model, X_valid, y_valid)\n",
    "\n",
    "\n",
    "best_random = rf_random.best_estimator_\n",
    "best_random.fit(X_train , y_train)\n",
    "\n",
    "random_accuracy = evaluate(best_random, X_valid, y_valid)\n"
   ]
  },
  {
   "cell_type": "code",
   "execution_count": null,
   "metadata": {
    "id": "HYKXRaXZRqhc",
    "outputId": "133f87a8-6676-4ab9-a9cf-6360ae9a5f2d",
    "tags": []
   },
   "outputs": [],
   "source": [
    "from sklearn.model_selection import cross_val_score\n",
    "\n",
    "scores = -1 * cross_val_score(best_random, X_valid, y_valid,\n",
    "                              cv=5,\n",
    "                              scoring='neg_mean_absolute_error')\n"
   ]
  },
  {
   "cell_type": "code",
   "execution_count": null,
   "metadata": {
    "id": "Vh8L7i-ZRqhe"
   },
   "outputs": [],
   "source": [
    "import pickle\n",
    "pickle.dump(best_random, open('model.pkl','wb'))\n",
    "model = pickle.load(open('model.pkl','rb'))\n"
   ]
  },
  {
   "cell_type": "code",
   "execution_count": null,
   "metadata": {},
   "outputs": [],
   "source": []
  }
 ],
 "metadata": {
  "colab": {
   "include_colab_link": true,
   "name": "model_building.ipynb",
   "provenance": []
  },
  "interpreter": {
   "hash": "aee8b7b246df8f9039afb4144a1f6fd8d2ca17a180786b69acc140d282b71a49"
  },
  "kernelspec": {
   "display_name": "Python 3 (ipykernel)",
   "language": "python",
   "name": "python3"
  },
  "language_info": {
   "codemirror_mode": {
    "name": "ipython",
    "version": 3
   },
   "file_extension": ".py",
   "mimetype": "text/x-python",
   "name": "python",
   "nbconvert_exporter": "python",
   "pygments_lexer": "ipython3",
   "version": "3.8.10"
  }
 },
 "nbformat": 4,
 "nbformat_minor": 2
}
